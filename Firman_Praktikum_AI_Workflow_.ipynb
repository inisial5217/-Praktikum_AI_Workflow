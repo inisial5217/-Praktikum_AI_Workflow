{
  "nbformat": 4,
  "nbformat_minor": 0,
  "metadata": {
    "colab": {
      "provenance": []
    },
    "kernelspec": {
      "name": "python3",
      "display_name": "Python 3"
    },
    "language_info": {
      "name": "python"
    }
  },
  "cells": [
    {
      "cell_type": "code",
      "execution_count": 47,
      "metadata": {
        "colab": {
          "base_uri": "https://localhost:8080/"
        },
        "id": "5KAkuQE7RpI2",
        "outputId": "bfa50f82-71be-4d7b-ea35-f229a50fbcb6"
      },
      "outputs": [
        {
          "output_type": "stream",
          "name": "stdout",
          "text": [
            "File CSV berhasil dibuat dan disimpan sebagai 'data_penjualan_latihan.csv'!\n"
          ]
        }
      ],
      "source": [
        "import pandas as pd\n",
        "\n",
        "data = {\n",
        "    \"tanggal\": [\"2022-02-03\", \"2021-02-06\", \"2023-04-02\", \"2025-08-17\", \"2025-07-03\", \"2025-06-11\"],\n",
        "    \"produk\": [\"Lisah Curah\", \"Besreng\", \"Sari Dewi\", \"Pinto\", \"Milkuat\", \"Ciki Aries\"],\n",
        "    \"Jumlah Terjual\": [7, 10, 5, 8, 11, 10],\n",
        "    \"Stok\": [10, 15, 8, 12, 25, 20],\n",
        "    \"Harga Satuan\": [15000, 16000, 19000, 18000, 10000, 250000],\n",
        "}\n",
        "\n",
        "df = pd.DataFrame(data)\n",
        "df.to_csv(\"data_Penjualan_Latihan.csv\", index=False)\n",
        "print(\"File CSV berhasil dibuat dan disimpan sebagai 'data_penjualan_latihan.csv'!\")"
      ]
    },
    {
      "cell_type": "code",
      "source": [
        "df = pd.read_csv(\"data_Penjualan_Latihan.csv\")\n",
        "print(df.head())"
      ],
      "metadata": {
        "colab": {
          "base_uri": "https://localhost:8080/"
        },
        "id": "czJozGBjYkva",
        "outputId": "885179c3-1a2f-4911-d3ca-4990d01a41fa"
      },
      "execution_count": 48,
      "outputs": [
        {
          "output_type": "stream",
          "name": "stdout",
          "text": [
            "      tanggal       produk  Jumlah Terjual  Stok  Harga Satuan\n",
            "0  2022-02-03  Lisah Curah               7    10         15000\n",
            "1  2021-02-06      Besreng              10    15         16000\n",
            "2  2023-04-02    Sari Dewi               5     8         19000\n",
            "3  2025-08-17        Pinto               8    12         18000\n",
            "4  2025-07-03      Milkuat              11    25         10000\n"
          ]
        }
      ]
    },
    {
      "cell_type": "code",
      "source": [
        "import pandas as pd\n",
        "\n",
        "df = pd.read_csv(\"data_Penjualan_Latihan.csv\")\n",
        "\n",
        "print(\"Data yang hilang sebelum pengisian:\")\n",
        "print(df.isnull().sum())\n",
        "\n",
        "df.fillna({\"Jumlah Terjual\": 8, \"Harga Satuan\": df[\"Harga Satuan\"].median(), \"tanggal\": \"2000-01-01\"}, inplace=True)\n",
        "df[\"tanggal\"] = pd.to_datetime(df[\"tanggal\"])\n",
        "df[\"Total Penjualan\"] = df[\"Jumlah Terjual\"] * df[\"Harga Satuan\"]\n",
        "df[\"Keuntungan\"] = df[\"Total Penjualan\"] - (df[\"Jumlah Terjual\"] * 10000)\n",
        "\n",
        "print(df.head())\n",
        "\n",
        "df.to_csv(\"data_Penjualan_Latihan_Cleaned.csv\", index=False)\n",
        "print(\"File CSV yang telah diperbaiki berhasil disimpan sebagai 'data_Penjualan_Latihan_Cleaned.csv'!\")\n"
      ],
      "metadata": {
        "colab": {
          "base_uri": "https://localhost:8080/"
        },
        "id": "nvdk2elEZzQR",
        "outputId": "5caf1455-60aa-4689-ec61-9446cd6af050"
      },
      "execution_count": 67,
      "outputs": [
        {
          "output_type": "stream",
          "name": "stdout",
          "text": [
            "Data yang hilang sebelum pengisian:\n",
            "tanggal           0\n",
            "produk            0\n",
            "Jumlah Terjual    0\n",
            "Stok              0\n",
            "Harga Satuan      0\n",
            "dtype: int64\n",
            "     tanggal       produk  Jumlah Terjual  Stok  Harga Satuan  \\\n",
            "0 2022-02-03  Lisah Curah               7    10         15000   \n",
            "1 2021-02-06      Besreng              10    15         16000   \n",
            "2 2023-04-02    Sari Dewi               5     8         19000   \n",
            "3 2025-08-17        Pinto               8    12         18000   \n",
            "4 2025-07-03      Milkuat              11    25         10000   \n",
            "\n",
            "   Total Penjualan  Keuntungan  \n",
            "0           105000       35000  \n",
            "1           160000       60000  \n",
            "2            95000       45000  \n",
            "3           144000       64000  \n",
            "4           110000           0  \n",
            "File CSV yang telah diperbaiki berhasil disimpan sebagai 'data_Penjualan_Latihan_Cleaned.csv'!\n"
          ]
        }
      ]
    },
    {
      "cell_type": "code",
      "source": [
        "!pip install scikit-learn\n",
        "\n",
        "from sklearn.model_selection import train_test_split\n",
        "from sklearn.tree import DecisionTreeClassifier\n",
        "from sklearn.metrics import accuracy_score\n",
        "import pandas as pd\n",
        "\n",
        "df = pd.read_csv(\"data_Penjualan_Latihan_Cleaned.csv\")\n",
        "\n",
        "x = df[[\"Jumlah Terjual\", \"Stok\"]]\n",
        "y = (df[\"Stok\"] < 5).astype(int)\n",
        "\n",
        "\n",
        "x_train, x_test, y_train, y_test = train_test_split(x, y, test_size=0.2, random_state=42, stratify=y)\n",
        "\n",
        "model = DecisionTreeClassifier(max_depth=3, min_samples_split=2, random_state=42)\n",
        "model.fit(x_train, y_train)\n",
        "\n",
        "y_pred = model.predict(x_test)\n",
        "\n",
        "\n",
        "accuracy = accuracy_score(y_test, y_pred)\n",
        "print(\"Akurasi model:\", accuracy)\n"
      ],
      "metadata": {
        "colab": {
          "base_uri": "https://localhost:8080/"
        },
        "id": "x_r2dENfb0gj",
        "outputId": "34a0d302-d0a9-45d3-9880-c36a9751a2ee"
      },
      "execution_count": 68,
      "outputs": [
        {
          "output_type": "stream",
          "name": "stdout",
          "text": [
            "Requirement already satisfied: scikit-learn in /usr/local/lib/python3.11/dist-packages (1.6.1)\n",
            "Requirement already satisfied: numpy>=1.19.5 in /usr/local/lib/python3.11/dist-packages (from scikit-learn) (1.26.4)\n",
            "Requirement already satisfied: scipy>=1.6.0 in /usr/local/lib/python3.11/dist-packages (from scikit-learn) (1.13.1)\n",
            "Requirement already satisfied: joblib>=1.2.0 in /usr/local/lib/python3.11/dist-packages (from scikit-learn) (1.4.2)\n",
            "Requirement already satisfied: threadpoolctl>=3.1.0 in /usr/local/lib/python3.11/dist-packages (from scikit-learn) (3.5.0)\n",
            "Akurasi model: 1.0\n"
          ]
        }
      ]
    },
    {
      "cell_type": "code",
      "source": [
        "produk_baru = [[8, 3]]\n",
        "prediksi = model.predict(produk_baru)\n",
        "\n",
        "if prediksi[0] == 1:\n",
        "  print(\"produk perlu di-restock!\")\n",
        "else:\n",
        "  print(\"stok masih cukup.\")"
      ],
      "metadata": {
        "colab": {
          "base_uri": "https://localhost:8080/"
        },
        "id": "1hqu6TtceT-l",
        "outputId": "33045e72-051b-4274-f46f-70557dcea203"
      },
      "execution_count": 69,
      "outputs": [
        {
          "output_type": "stream",
          "name": "stdout",
          "text": [
            "stok masih cukup.\n"
          ]
        },
        {
          "output_type": "stream",
          "name": "stderr",
          "text": [
            "/usr/local/lib/python3.11/dist-packages/sklearn/utils/validation.py:2739: UserWarning: X does not have valid feature names, but DecisionTreeClassifier was fitted with feature names\n",
            "  warnings.warn(\n"
          ]
        }
      ]
    },
    {
      "cell_type": "code",
      "source": [
        "import matplotlib.pyplot as plt\n",
        "\n",
        "# Correct the column name from 'stok' to 'Stok'\n",
        "plt.scatter(df[\"Jumlah Terjual\"], df[\"Stok\"], c=df[\"Keuntungan\"], cmap=\"coolwarm\")\n",
        "plt.xlabel(\"Jumlah Terjual\")\n",
        "plt.ylabel(\"Stok\")  # Correct the column name here as well\n",
        "plt.title(\"Analisis penjualan dan stok\")\n",
        "plt.colorbar(label=\"Keuntungan\")  # Assuming 'keuntungan' is a column in your DataFrame\n",
        "plt.show()"
      ],
      "metadata": {
        "colab": {
          "base_uri": "https://localhost:8080/",
          "height": 472
        },
        "id": "AA1x17iNe4C-",
        "outputId": "1112e708-6b90-4c1f-a774-a889e409b4e9"
      },
      "execution_count": 19,
      "outputs": [
        {
          "output_type": "display_data",
          "data": {
            "text/plain": [
              "<Figure size 640x480 with 2 Axes>"
            ],
            "image/png": "[encoded data removed]"
          },
          "metadata": {}
        }
      ]
    }
  ]
}